{
 "cells": [
  {
   "cell_type": "markdown",
   "metadata": {},
   "source": [
    "# Pytest"
   ]
  },
  {
   "cell_type": "code",
   "execution_count": 2,
   "metadata": {},
   "outputs": [],
   "source": [
    "# Well for jupyter notebooks we are gonna use ipytest to test things in a systematic way. Let's get to it"
   ]
  },
  {
   "cell_type": "code",
   "execution_count": 12,
   "metadata": {},
   "outputs": [],
   "source": [
    "# Let's import\n",
    "import ipytest\n",
    "ipytest.autoconfig()\n",
    "import pytest"
   ]
  },
  {
   "cell_type": "code",
   "execution_count": 8,
   "metadata": {},
   "outputs": [],
   "source": [
    "# let's define a function \n",
    "def square(x):\n",
    "    return x**2\n",
    "\n",
    "# Now let's test that function, for that we need to use the decorator for the cell containing the test function"
   ]
  },
  {
   "cell_type": "code",
   "execution_count": 9,
   "metadata": {},
   "outputs": [
    {
     "name": "stdout",
     "output_type": "stream",
     "text": [
      "\u001b[32m.\u001b[0m\u001b[32m                                                                                            [100%]\u001b[0m\n",
      "\u001b[32m\u001b[32m\u001b[1m1 passed\u001b[0m\u001b[32m in 0.01s\u001b[0m\u001b[0m\n"
     ]
    }
   ],
   "source": [
    "%%ipytest \n",
    "\n",
    "def test_square():\n",
    "    assert square(5) == 25\n",
    "    assert square(2) == 4\n",
    "    assert square(10) == 100\n"
   ]
  },
  {
   "cell_type": "markdown",
   "metadata": {},
   "source": [
    "> P.S. When you write the decorator, you put it on the top of the cell. Else it doesn't work"
   ]
  },
  {
   "cell_type": "markdown",
   "metadata": {},
   "source": [
    "## Parameters"
   ]
  },
  {
   "cell_type": "code",
   "execution_count": null,
   "metadata": {},
   "outputs": [],
   "source": [
    "# We can give parameters and expected output in a list as a tuple and it will execute them all"
   ]
  },
  {
   "cell_type": "code",
   "execution_count": 11,
   "metadata": {},
   "outputs": [
    {
     "name": "stdout",
     "output_type": "stream",
     "text": [
      "\u001b[32m.\u001b[0m\u001b[32m.\u001b[0m\u001b[32m.\u001b[0m\u001b[32m.\u001b[0m\u001b[32m                                                                                         [100%]\u001b[0m\n",
      "\u001b[32m\u001b[32m\u001b[1m4 passed\u001b[0m\u001b[32m in 0.04s\u001b[0m\u001b[0m\n"
     ]
    }
   ],
   "source": [
    "%%ipytest \n",
    "\n",
    "@pytest.mark.parametrize('input,expected', [\n",
    "    (0, 0),\n",
    "    (1, 1),\n",
    "    (3, 9),\n",
    "    (5, 25),\n",
    "])\n",
    "def test_parametrized(input, expected):\n",
    "    assert square(input) == expected"
   ]
  },
  {
   "cell_type": "code",
   "execution_count": 13,
   "metadata": {},
   "outputs": [
    {
     "name": "stdout",
     "output_type": "stream",
     "text": [
      "\u001b[32m.\u001b[0m\u001b[32m.\u001b[0m\u001b[32m.\u001b[0m\u001b[31mF\u001b[0m\u001b[31m                                                                                         [100%]\u001b[0m\n",
      "============================================= FAILURES =============================================\n",
      "\u001b[31m\u001b[1m_____________________________________ test_parametrized[5-24] ______________________________________\u001b[0m\n",
      "\n",
      "input = 5, expected = 24\n",
      "\n",
      "    \u001b[37m@pytest\u001b[39;49;00m.mark.parametrize(\u001b[33m'\u001b[39;49;00m\u001b[33minput,expected\u001b[39;49;00m\u001b[33m'\u001b[39;49;00m, [\n",
      "        (\u001b[94m0\u001b[39;49;00m, \u001b[94m0\u001b[39;49;00m),\n",
      "        (\u001b[94m1\u001b[39;49;00m, \u001b[94m1\u001b[39;49;00m),\n",
      "        (\u001b[94m3\u001b[39;49;00m, \u001b[94m9\u001b[39;49;00m),\n",
      "        (\u001b[94m5\u001b[39;49;00m, \u001b[94m24\u001b[39;49;00m),\n",
      "    ])\n",
      "    \u001b[94mdef\u001b[39;49;00m \u001b[92mtest_parametrized\u001b[39;49;00m(\u001b[96minput\u001b[39;49;00m, expected):\n",
      ">       \u001b[94massert\u001b[39;49;00m square(\u001b[96minput\u001b[39;49;00m) == expected\n",
      "\u001b[1m\u001b[31mE       assert 25 == 24\u001b[0m\n",
      "\u001b[1m\u001b[31mE        +  where 25 = square(5)\u001b[0m\n",
      "\n",
      "\u001b[1m\u001b[31m<ipython-input-13-98fecf63cac8>\u001b[0m:10: AssertionError\n",
      "===================================== short test summary info ======================================\n",
      "FAILED tmpz1k63ejt.py::test_parametrized[5-24] - assert 25 == 24\n",
      "\u001b[31m\u001b[31m\u001b[1m1 failed\u001b[0m, \u001b[32m3 passed\u001b[0m\u001b[31m in 0.35s\u001b[0m\u001b[0m\n"
     ]
    }
   ],
   "source": [
    "%%ipytest \n",
    "\n",
    "# Let's see what happens when we get an error\n",
    "\n",
    "@pytest.mark.parametrize('input,expected', [\n",
    "    (0, 0),\n",
    "    (1, 1),\n",
    "    (3, 9),\n",
    "    (5, 24),\n",
    "])\n",
    "def test_parametrized(input, expected):\n",
    "    assert square(input) == expected"
   ]
  },
  {
   "cell_type": "code",
   "execution_count": 14,
   "metadata": {},
   "outputs": [],
   "source": [
    "# Nice"
   ]
  },
  {
   "cell_type": "code",
   "execution_count": null,
   "metadata": {},
   "outputs": [],
   "source": []
  }
 ],
 "metadata": {
  "kernelspec": {
   "display_name": "Python 3",
   "language": "python",
   "name": "python3"
  },
  "language_info": {
   "codemirror_mode": {
    "name": "ipython",
    "version": 3
   },
   "file_extension": ".py",
   "mimetype": "text/x-python",
   "name": "python",
   "nbconvert_exporter": "python",
   "pygments_lexer": "ipython3",
   "version": "3.8.3"
  }
 },
 "nbformat": 4,
 "nbformat_minor": 4
}
